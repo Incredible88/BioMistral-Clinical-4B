{
  "cells": [
    {
      "cell_type": "markdown",
      "source": [
        "# BioMistral-7B SFT with MedQA datasets\n",
        "These notebooks show the process of supervised fine-tuning of the base model bio mistral-7 using the medQA DataSet."
      ],
      "metadata": {
        "id": "z0z4IqQ6l_lx"
      }
    },
    {
      "cell_type": "markdown",
      "source": [
        "## Load the base model"
      ],
      "metadata": {
        "id": "4lPuguTlkhMt"
      }
    },
    {
      "cell_type": "code",
      "execution_count": null,
      "metadata": {
        "ExecutionIndicator": {
          "show": true
        },
        "execution": {
          "iopub.execute_input": "2024-11-05T15:10:07.064275Z",
          "iopub.status.busy": "2024-11-05T15:10:07.063939Z",
          "iopub.status.idle": "2024-11-05T15:10:18.838500Z",
          "shell.execute_reply": "2024-11-05T15:10:18.837965Z",
          "shell.execute_reply.started": "2024-11-05T15:10:07.064252Z"
        },
        "tags": [],
        "id": "EidPowa-iSgv",
        "outputId": "c15fb87f-45e5-48f1-a1c0-433f54fa297d"
      },
      "outputs": [
        {
          "name": "stderr",
          "output_type": "stream",
          "text": [
            "`low_cpu_mem_usage` was None, now default to True since model is quantized.\n"
          ]
        }
      ],
      "source": [
        "from transformers import AutoModelForCausalLM, AutoTokenizer, BitsAndBytesConfig\n",
        "import torch\n",
        "\n",
        "\n",
        "local_model_dir = \"./BioMistral-7B\"\n",
        "bnb_config = BitsAndBytesConfig(\n",
        "    load_in_4bit=True,\n",
        "    bnb_4bit_use_double_quant=True,\n",
        "    bnb_4bit_quant_type=\"nf4\",\n",
        "    bnb_4bit_compute_dtype=torch.bfloat16\n",
        ")\n",
        "\n",
        "\n",
        "tokenizer = AutoTokenizer.from_pretrained(local_model_dir)\n",
        "model = AutoModelForCausalLM.from_pretrained(local_model_dir, quantization_config=bnb_config)"
      ]
    },
    {
      "cell_type": "markdown",
      "source": [
        "## Load the training datasets and tokenization"
      ],
      "metadata": {
        "id": "DdPx2dYjkpId"
      }
    },
    {
      "cell_type": "code",
      "execution_count": null,
      "metadata": {
        "execution": {
          "iopub.execute_input": "2024-11-05T15:10:49.378269Z",
          "iopub.status.busy": "2024-11-05T15:10:49.377825Z",
          "iopub.status.idle": "2024-11-05T15:10:50.321404Z",
          "shell.execute_reply": "2024-11-05T15:10:50.320367Z",
          "shell.execute_reply.started": "2024-11-05T15:10:49.378244Z"
        },
        "tags": [],
        "id": "2uJTfuPViSgx"
      },
      "outputs": [],
      "source": [
        "import pandas as pd\n",
        "from datasets import Dataset\n",
        "# load training datasets\n",
        "train_df = pd.read_csv('MedQA/med_qa_train.csv')\n",
        "validation_df = pd.read_csv('MedQA/med_qa_validation.csv')\n",
        "test_df = pd.read_csv('MedQA/med_qa_test.csv')\n",
        "\n",
        "# Convert DataFrame to datasets.Dataset\n",
        "train_dataset = Dataset.from_pandas(train_df)\n",
        "validation_dataset = Dataset.from_pandas(validation_df)\n",
        "test_dataset = Dataset.from_pandas(test_df)"
      ]
    },
    {
      "cell_type": "code",
      "execution_count": null,
      "metadata": {
        "ExecutionIndicator": {
          "show": true
        },
        "execution": {
          "iopub.execute_input": "2024-10-31T16:31:34.306390Z",
          "iopub.status.busy": "2024-10-31T16:31:34.305992Z",
          "iopub.status.idle": "2024-10-31T16:31:41.408305Z",
          "shell.execute_reply": "2024-10-31T16:31:41.407783Z",
          "shell.execute_reply.started": "2024-10-31T16:31:34.306369Z"
        },
        "tags": [],
        "colab": {
          "referenced_widgets": [
            "4f03bbaa35e1471fad63f98ceafd07fc",
            "9ca9e30713234371bdaf7369640351db"
          ]
        },
        "id": "ec__4Yx0iSgy",
        "outputId": "a65d69a3-d597-47c8-fad7-097f02c4ccfb"
      },
      "outputs": [
        {
          "data": {
            "application/vnd.jupyter.widget-view+json": {
              "model_id": "4f03bbaa35e1471fad63f98ceafd07fc",
              "version_major": 2,
              "version_minor": 0
            },
            "text/plain": [
              "Map:   0%|          | 0/12690 [00:00<?, ? examples/s]"
            ]
          },
          "metadata": {},
          "output_type": "display_data"
        },
        {
          "data": {
            "application/vnd.jupyter.widget-view+json": {
              "model_id": "9ca9e30713234371bdaf7369640351db",
              "version_major": 2,
              "version_minor": 0
            },
            "text/plain": [
              "Map:   0%|          | 0/3172 [00:00<?, ? examples/s]"
            ]
          },
          "metadata": {},
          "output_type": "display_data"
        }
      ],
      "source": [
        "import ast\n",
        "import re\n",
        "tokenizer.pad_token = tokenizer.eos_token\n",
        "def generate_and_tokenize_prompt(examples):\n",
        "    options = {\n",
        "        'A': examples['A'],\n",
        "        'B': examples['B'],\n",
        "        'C': examples['C'],\n",
        "        'D': examples['D']\n",
        "    }\n",
        "    # Convert options to a formatted string, with each option on a new line\n",
        "    option_str = '\\n'.join([f\"{k}: {v}\" for k, v in options.items()])\n",
        "\n",
        "    # Build the complete prompt text\n",
        "    prompt_str = f\"\"\"From the MedmcQA Dataset: Given the medical question, provide an accurate answer.\n",
        "\n",
        "    ###Question:\n",
        "    {examples['question']} ?\n",
        "\n",
        "    ###Options:\\n{option_str}\n",
        "\n",
        "    ###Answers:\n",
        "    {examples['cop']}: {examples['Answer']}\"\"\"\n",
        "\n",
        "    result = tokenizer(\n",
        "        prompt_str,\n",
        "        truncation=True,\n",
        "        max_length=256,\n",
        "        padding=\"max_length\",\n",
        "    )\n",
        "    result[\"labels\"] = result[\"input_ids\"].copy()\n",
        "    return result\n",
        "\n",
        "# Apply to training and validation sets\n",
        "tokenized_train_dataset = train_dataset.map(generate_and_tokenize_prompt, batched=False)\n",
        "tokenized_val_dataset = validation_dataset.map(generate_and_tokenize_prompt, batched=False)\n"
      ]
    },
    {
      "cell_type": "code",
      "execution_count": null,
      "metadata": {
        "execution": {
          "iopub.execute_input": "2024-10-31T16:31:41.409504Z",
          "iopub.status.busy": "2024-10-31T16:31:41.409108Z",
          "iopub.status.idle": "2024-10-31T16:31:41.413259Z",
          "shell.execute_reply": "2024-10-31T16:31:41.412743Z",
          "shell.execute_reply.started": "2024-10-31T16:31:41.409484Z"
        },
        "tags": [],
        "id": "kM7GBF4ziSgy",
        "outputId": "ba36640e-6f72-43a9-c5fd-6c8314884c3d"
      },
      "outputs": [
        {
          "data": {
            "text/plain": [
              "{'question': 'All of the following are surgical options for morbid obesity except -',\n",
              " 'A': 'Adjustable gastric banding',\n",
              " 'B': 'Biliopancreatic diversion',\n",
              " 'C': 'Duodenal Switch',\n",
              " 'D': 'Roux en Y Duodenal By pass',\n",
              " 'cop': 'C',\n",
              " 'Answer': 'Duodenal Switch'}"
            ]
          },
          "execution_count": 7,
          "metadata": {},
          "output_type": "execute_result"
        }
      ],
      "source": [
        "train_dataset[0]"
      ]
    },
    {
      "cell_type": "code",
      "execution_count": null,
      "metadata": {
        "execution": {
          "iopub.execute_input": "2024-10-31T16:33:08.021104Z",
          "iopub.status.busy": "2024-10-31T16:33:08.020760Z",
          "iopub.status.idle": "2024-10-31T16:33:08.027213Z",
          "shell.execute_reply": "2024-10-31T16:33:08.026572Z",
          "shell.execute_reply.started": "2024-10-31T16:33:08.021080Z"
        },
        "tags": [],
        "id": "v4XygrCAiSgy",
        "outputId": "c421873c-dd4d-4724-c085-16d3e1947235"
      },
      "outputs": [
        {
          "name": "stdout",
          "output_type": "stream",
          "text": [
            "</s></s></s></s></s></s></s></s></s></s></s></s></s></s></s></s></s></s></s></s></s></s></s></s></s></s></s></s></s></s></s></s></s></s></s></s></s></s></s></s></s></s></s></s></s></s></s></s></s></s></s></s></s></s></s></s></s></s></s></s></s></s></s></s></s></s></s></s></s></s></s></s></s></s></s></s></s></s></s></s></s></s></s></s></s></s></s></s></s></s></s></s></s></s></s></s></s></s></s></s></s></s></s></s></s></s></s></s></s></s></s></s></s></s></s></s></s></s></s></s></s></s></s></s></s></s></s></s></s></s></s></s><s> From the MedmcQA Dataset: Given the medical question, provide an accurate answer.\n",
            "\n",
            "    ###Question:\n",
            "    A 60 yr old chronic smoker presents with painless gross hematuria of 1 day duration. Investigation of choice to know the cause of hematuria ?\n",
            "\n",
            "    ###Options:\n",
            "A: USG\n",
            "B: X-ray KUB\n",
            "C: Urine routine\n",
            "D: Urine microscopy for malignant cytology cells\n",
            "    \n",
            "    ###Answers:\n",
            "    C: Urine routine\n"
          ]
        }
      ],
      "source": [
        "# Decode the tokenized text back to a string using the tokenizer\n",
        "untokenized_text = tokenizer.decode(tokenized_train_dataset[1]['input_ids'])\n",
        "print(untokenized_text)"
      ]
    },
    {
      "cell_type": "markdown",
      "source": [
        "## Observe the distribution of input lengths"
      ],
      "metadata": {
        "id": "o4JlUrq7kehs"
      }
    },
    {
      "cell_type": "code",
      "execution_count": null,
      "metadata": {
        "execution": {
          "iopub.execute_input": "2024-10-29T16:06:47.352468Z",
          "iopub.status.busy": "2024-10-29T16:06:47.352108Z",
          "iopub.status.idle": "2024-10-29T16:06:51.238382Z",
          "shell.execute_reply": "2024-10-29T16:06:51.237826Z",
          "shell.execute_reply.started": "2024-10-29T16:06:47.352445Z"
        },
        "tags": [],
        "id": "-f65T5MIiSgy",
        "outputId": "b6a305b4-2474-496a-830d-11af0ab0c3bc"
      },
      "outputs": [
        {
          "name": "stdout",
          "output_type": "stream",
          "text": [
            "15862\n"
          ]
        },
        {
          "data": {
            "image/png": "[encoded data removed]",
            "text/plain": [
              "<Figure size 1000x600 with 1 Axes>"
            ]
          },
          "metadata": {},
          "output_type": "display_data"
        }
      ],
      "source": [
        "\n",
        "import matplotlib.pyplot as plt\n",
        "\n",
        "def plot_data_lengths(tokenized_train_dataset, tokenized_val_dataset):\n",
        "    lengths = [len(x['input_ids']) for x in tokenized_train_dataset]\n",
        "    lengths += [len(x['input_ids']) for x in tokenized_val_dataset]\n",
        "    print(len(lengths))\n",
        "\n",
        "    # Plotting the histogram\n",
        "    plt.figure(figsize=(10, 6))\n",
        "    plt.hist(lengths, bins=20, alpha=0.7, color='blue')\n",
        "    plt.xlabel('Length of input_ids')\n",
        "    plt.ylabel('Frequency')\n",
        "    plt.title('Distribution of Lengths of input_ids')\n",
        "    plt.show()\n",
        "\n",
        "plot_data_lengths(tokenized_train_dataset, tokenized_val_dataset)"
      ]
    },
    {
      "cell_type": "markdown",
      "source": [
        "## Set the LORA config"
      ],
      "metadata": {
        "id": "mU3d-X-Jk0Md"
      }
    },
    {
      "cell_type": "code",
      "execution_count": null,
      "metadata": {
        "execution": {
          "iopub.execute_input": "2024-10-29T16:07:23.669703Z",
          "iopub.status.busy": "2024-10-29T16:07:23.669339Z",
          "iopub.status.idle": "2024-10-29T16:07:24.627871Z",
          "shell.execute_reply": "2024-10-29T16:07:24.627300Z",
          "shell.execute_reply.started": "2024-10-29T16:07:23.669680Z"
        },
        "tags": [],
        "id": "5xopCxGPiSgy"
      },
      "outputs": [],
      "source": [
        "from peft import prepare_model_for_kbit_training\n",
        "model.gradient_checkpointing_enable()\n",
        "model = prepare_model_for_kbit_training(model)\n",
        "from peft import LoraConfig, get_peft_model\n",
        "\n",
        "config = LoraConfig(\n",
        "    r=8,\n",
        "    lora_alpha=16,\n",
        "    target_modules=[\n",
        "        \"q_proj\",\n",
        "        \"k_proj\",\n",
        "        \"v_proj\",\n",
        "        \"o_proj\",\n",
        "        \"gate_proj\",\n",
        "        \"up_proj\",\n",
        "        \"down_proj\",\n",
        "        \"lm_head\",\n",
        "    ],\n",
        "    bias=\"none\",\n",
        "    lora_dropout=0.05,  # Conventional\n",
        "    task_type=\"CAUSAL_LM\",\n",
        ")\n",
        "\n",
        "\n",
        "model = get_peft_model(model, config)"
      ]
    },
    {
      "cell_type": "code",
      "execution_count": null,
      "metadata": {
        "id": "0szVQ1loiSgy",
        "outputId": "c30c34cf-96da-4dbe-f501-b387b3978dae"
      },
      "outputs": [
        {
          "name": "stdout",
          "output_type": "stream",
          "text": [
            "trainable params: 21260288 || all params: 3773331456 || trainable%: 0.5634354746703705\n"
          ]
        }
      ],
      "source": [
        "# Total number of trainable parameters\n",
        "def print_trainable_parameters(model):\n",
        "    \"\"\"\n",
        "    Prints the number of trainable parameters in the model.\n",
        "    \"\"\"\n",
        "    trainable_params = 0\n",
        "    all_param = 0\n",
        "    for _, param in model.named_parameters():\n",
        "        all_param += param.numel()\n",
        "        if param.requires_grad:\n",
        "            trainable_params += param.numel()\n",
        "    print(\n",
        "        f\"trainable params: {trainable_params} || all params: {all_param} || trainable%: {100 * trainable_params / all_param}\"\n",
        "    )\n",
        "print_trainable_parameters(model)"
      ]
    },
    {
      "cell_type": "markdown",
      "source": [
        "## Set the finetune config and train"
      ],
      "metadata": {
        "id": "ieh6UJsElJ1M"
      }
    },
    {
      "cell_type": "code",
      "execution_count": null,
      "metadata": {
        "ExecutionIndicator": {
          "show": true
        },
        "execution": {
          "iopub.execute_input": "2024-10-29T16:08:31.131114Z",
          "iopub.status.busy": "2024-10-29T16:08:31.130726Z"
        },
        "scrolled": true,
        "tags": [],
        "colab": {
          "referenced_widgets": [
            "75963ede11e84a2fab2599856d210b05"
          ]
        },
        "id": "3n8bw7rRiSgz",
        "outputId": "bd4b2d30-17d8-49ad-bf06-7f5aa7ae9d91"
      },
      "outputs": [
        {
          "name": "stderr",
          "output_type": "stream",
          "text": [
            "\u001b[34m\u001b[1mwandb\u001b[0m: Using wandb-core as the SDK backend. Please refer to https://wandb.me/wandb-core for more information.\n",
            "\u001b[34m\u001b[1mwandb\u001b[0m: W&B API key is configured. Use \u001b[1m`wandb login --relogin`\u001b[0m to force relogin\n",
            "\u001b[34m\u001b[1mwandb\u001b[0m: \u001b[33mWARNING\u001b[0m If you're specifying your api key in code, ensure this code is not shared publicly.\n",
            "\u001b[34m\u001b[1mwandb\u001b[0m: \u001b[33mWARNING\u001b[0m Consider setting the WANDB_API_KEY environment variable, or running `wandb login` from the command line.\n",
            "\u001b[34m\u001b[1mwandb\u001b[0m: Appending key for api.wandb.ai to your netrc file: /root/.netrc\n",
            "\u001b[34m\u001b[1mwandb\u001b[0m: Currently logged in as: \u001b[33mziwei-chen-goo\u001b[0m (\u001b[33mziwei-chen-goo-mbira-technologies\u001b[0m). Use \u001b[1m`wandb login --relogin`\u001b[0m to force relogin\n"
          ]
        },
        {
          "data": {
            "application/vnd.jupyter.widget-view+json": {
              "model_id": "75963ede11e84a2fab2599856d210b05",
              "version_major": 2,
              "version_minor": 0
            },
            "text/plain": [
              "VBox(children=(Label(value='Waiting for wandb.init()...\\r'), FloatProgress(value=0.011112122277770848, max=1.0…"
            ]
          },
          "metadata": {},
          "output_type": "display_data"
        },
        {
          "data": {
            "text/html": [
              "Tracking run with wandb version 0.18.5"
            ],
            "text/plain": [
              "<IPython.core.display.HTML object>"
            ]
          },
          "metadata": {},
          "output_type": "display_data"
        },
        {
          "data": {
            "text/html": [
              "Run data is saved locally in <code>/mnt/workspace/wandb/run-20241030_000834-wqn149n4</code>"
            ],
            "text/plain": [
              "<IPython.core.display.HTML object>"
            ]
          },
          "metadata": {},
          "output_type": "display_data"
        },
        {
          "data": {
            "text/html": [
              "Syncing run <strong><a href='https://wandb.ai/ziwei-chen-goo-mbira-technologies/biomistral-7B-MedmcQA-SFT/runs/wqn149n4' target=\"_blank\">biomistral-biomistral-7B-MedmcQA-SFT</a></strong> to <a href='https://wandb.ai/ziwei-chen-goo-mbira-technologies/biomistral-7B-MedmcQA-SFT' target=\"_blank\">Weights & Biases</a> (<a href='https://wandb.me/run' target=\"_blank\">docs</a>)<br/>"
            ],
            "text/plain": [
              "<IPython.core.display.HTML object>"
            ]
          },
          "metadata": {},
          "output_type": "display_data"
        },
        {
          "data": {
            "text/html": [
              " View project at <a href='https://wandb.ai/ziwei-chen-goo-mbira-technologies/biomistral-7B-MedmcQA-SFT' target=\"_blank\">https://wandb.ai/ziwei-chen-goo-mbira-technologies/biomistral-7B-MedmcQA-SFT</a>"
            ],
            "text/plain": [
              "<IPython.core.display.HTML object>"
            ]
          },
          "metadata": {},
          "output_type": "display_data"
        },
        {
          "data": {
            "text/html": [
              " View run at <a href='https://wandb.ai/ziwei-chen-goo-mbira-technologies/biomistral-7B-MedmcQA-SFT/runs/wqn149n4' target=\"_blank\">https://wandb.ai/ziwei-chen-goo-mbira-technologies/biomistral-7B-MedmcQA-SFT/runs/wqn149n4</a>"
            ],
            "text/plain": [
              "<IPython.core.display.HTML object>"
            ]
          },
          "metadata": {},
          "output_type": "display_data"
        },
        {
          "name": "stderr",
          "output_type": "stream",
          "text": [
            "/usr/local/lib/python3.10/site-packages/transformers/training_args.py:1559: FutureWarning: `evaluation_strategy` is deprecated and will be removed in version 4.46 of 🤗 Transformers. Use `eval_strategy` instead\n",
            "  warnings.warn(\n",
            "Detected kernel version 4.19.24, which is below the recommended minimum of 5.5.0; this can cause the process to hang. It is recommended to upgrade the kernel to the minimum version or higher.\n"
          ]
        },
        {
          "name": "stdout",
          "output_type": "stream",
          "text": [
            "[2024-10-30 00:08:37,339] [INFO] [real_accelerator.py:203:get_accelerator] Setting ds_accelerator to cuda (auto detect)\n",
            "\u001b[93m [WARNING] \u001b[0m Please specify the CUTLASS repo directory as environment variable $CUTLASS_PATH\n",
            "\u001b[93m [WARNING] \u001b[0m sparse_attn requires a torch version >= 1.5 and < 2.0 but detected 2.3\n",
            "\u001b[93m [WARNING] \u001b[0m using untested triton version (2.3.1), only 1.0.0 is known to be compatible\n"
          ]
        },
        {
          "name": "stderr",
          "output_type": "stream",
          "text": [
            "/usr/local/lib/python3.10/site-packages/torch/utils/checkpoint.py:464: UserWarning: torch.utils.checkpoint: the use_reentrant parameter should be passed explicitly. In version 2.4 we will raise an exception if use_reentrant is not passed. use_reentrant=False is recommended, but if you need to preserve the current default behavior, you can pass use_reentrant=True. Refer to docs for more details on the differences between the two variants.\n",
            "  warnings.warn(\n"
          ]
        },
        {
          "data": {
            "text/html": [
              "\n",
              "    <div>\n",
              "      \n",
              "      <progress value='1704' max='15865' style='width:300px; height:20px; vertical-align: middle;'></progress>\n",
              "      [ 1704/15865 1:50:32 < 15:19:45, 0.26 it/s, Epoch 0.54/5]\n",
              "    </div>\n",
              "    <table border=\"1\" class=\"dataframe\">\n",
              "  <thead>\n",
              " <tr style=\"text-align: left;\">\n",
              "      <th>Step</th>\n",
              "      <th>Training Loss</th>\n",
              "      <th>Validation Loss</th>\n",
              "    </tr>\n",
              "  </thead>\n",
              "  <tbody>\n",
              "    <tr>\n",
              "      <td>200</td>\n",
              "      <td>No log</td>\n",
              "      <td>0.864992</td>\n",
              "    </tr>\n",
              "    <tr>\n",
              "      <td>400</td>\n",
              "      <td>No log</td>\n",
              "      <td>0.842822</td>\n",
              "    </tr>\n",
              "    <tr>\n",
              "      <td>600</td>\n",
              "      <td>0.910500</td>\n",
              "      <td>0.827233</td>\n",
              "    </tr>\n",
              "    <tr>\n",
              "      <td>800</td>\n",
              "      <td>0.910500</td>\n",
              "      <td>0.816465</td>\n",
              "    </tr>\n",
              "    <tr>\n",
              "      <td>1000</td>\n",
              "      <td>0.811600</td>\n",
              "      <td>0.808202</td>\n",
              "    </tr>\n",
              "    <tr>\n",
              "      <td>1200</td>\n",
              "      <td>0.811600</td>\n",
              "      <td>0.800942</td>\n",
              "    </tr>\n",
              "    <tr>\n",
              "      <td>1400</td>\n",
              "      <td>0.811600</td>\n",
              "      <td>0.793905</td>\n",
              "    </tr>\n",
              "    <tr>\n",
              "      <td>1600</td>\n",
              "      <td>0.786100</td>\n",
              "      <td>0.788822</td>\n",
              "    </tr>\n",
              "  </tbody>\n",
              "</table><p>"
            ],
            "text/plain": [
              "<IPython.core.display.HTML object>"
            ]
          },
          "metadata": {},
          "output_type": "display_data"
        }
      ],
      "source": [
        "import transformers\n",
        "from datetime import datetime\n",
        "import wandb\n",
        "\n",
        "# Set up the project and run names\n",
        "project = \"biomistral-7B-MedmcQA-SFT\"\n",
        "base_model_name = \"biomistral\"\n",
        "run_name = base_model_name + \"-\" + project\n",
        "output_dir = \"./\" + run_name\n",
        "\n",
        "# Set the W&B API key\n",
        "wandb_api_key = \"5f5f94d3de9157cf146ad88ecc4e0518a7a7549e\"\n",
        "wandb.login(key=wandb_api_key)\n",
        "\n",
        "# Initialize a wandb run\n",
        "wandb.init(project=project, name=run_name)\n",
        "\n",
        "# Configure the Trainer\n",
        "training_args = transformers.TrainingArguments(\n",
        "    output_dir=output_dir,\n",
        "    per_device_train_batch_size=4,\n",
        "    num_train_epochs=5,\n",
        "    learning_rate=2.5e-5,  # Wanted to be about 10x smaller than the Mistral learning rate\n",
        "    bf16=True,\n",
        "    optim=\"paged_adamw_8bit\",\n",
        "    evaluation_strategy=\"steps\",\n",
        "    eval_steps=200,  # Adjust the evaluation step size as needed\n",
        "    logging_steps=500,  # The step size for logging\n",
        "    save_steps=2000,  # The step size for saving the model\n",
        "    report_to=\"wandb\",\n",
        "    run_name=f\"{run_name}-{datetime.now().strftime('%Y-%m-%d-%H-%M')}\"\n",
        ")\n",
        "\n",
        "class WandbEvaluationCallback(transformers.TrainerCallback):\n",
        "    def on_evaluate(self, args, state, control, metrics=None, **kwargs):\n",
        "        # Log metrics at the end of each epoch\n",
        "        if metrics:\n",
        "            wandb.log(metrics)\n",
        "\n",
        "trainer = transformers.Trainer(\n",
        "    model=model,\n",
        "    args=training_args,\n",
        "    train_dataset=tokenized_train_dataset,\n",
        "    eval_dataset=tokenized_val_dataset,\n",
        "    data_collator=transformers.DataCollatorForLanguageModeling(tokenizer, mlm=False),\n",
        "    callbacks=[WandbEvaluationCallback()]\n",
        ")\n",
        "\n",
        "# Set model configuration\n",
        "model.config.use_cache = False  # Silence the warnings. Please re-enable for inference!\n",
        "\n",
        "# Start training and tracking\n",
        "trainer.train()\n",
        "\n",
        "# Finish the wandb run\n",
        "wandb.finish()"
      ]
    },
    {
      "cell_type": "code",
      "execution_count": null,
      "metadata": {
        "id": "Zt0mG3GDiSgz",
        "outputId": "cdfe3f8b-1aae-4338-a0b2-50dec3688066"
      },
      "outputs": [
        {
          "name": "stderr",
          "output_type": "stream",
          "text": [
            "Setting `pad_token_id` to `eos_token_id`:None for open-end generation.\n"
          ]
        },
        {
          "name": "stdout",
          "output_type": "stream",
          "text": [
            "\n",
            "What are the symptoms of Norrie disease ?\n",
            "answer: \n",
            " The Norrie disease is a rare X-linked recessive disorder that affects the development of the eyes and the brain. It is caused by a mutation in the NDP gene, which leads to the production of an abnormal protein. The symptoms of Norrie disease can vary widely, depending on the severity of the mutation. In general, affected individuals have vision problems, such as glaucoma, cataracts, and retinal detachment. They may also have hearing loss, learning disabilities, and behavioral problems. Some individuals with Norrie disease have severe developmental delay and intellectual disability, while others have more mild symptoms.\n"
          ]
        }
      ],
      "source": [
        "model_device = next(model.parameters()).device\n",
        "\n",
        "eval_prompt = \"\"\"\n",
        "What are the symptoms of Norrie disease ?\n",
        "answer:\n",
        "\"\"\"\n",
        "\n",
        "# Encode the input and move it to the correct device\n",
        "model_input = tokenizer(eval_prompt, return_tensors=\"pt\").to(model_device)\n",
        "\n",
        "# model.eval()\n",
        "\n",
        "with torch.no_grad():\n",
        "    # generate output\n",
        "    output = model.generate(**model_input, max_new_tokens=500)\n",
        "    # decode output\n",
        "    answer = tokenizer.decode(output[0], skip_special_tokens=True)\n",
        "    print(answer)"
      ]
    },
    {
      "cell_type": "code",
      "execution_count": null,
      "metadata": {
        "id": "TJ2StBAPiSgz"
      },
      "outputs": [],
      "source": []
    }
  ],
  "metadata": {
    "kernelspec": {
      "display_name": "Python 3 (ipykernel)",
      "language": "python",
      "name": "python3"
    },
    "language_info": {
      "codemirror_mode": {
        "name": "ipython",
        "version": 3
      },
      "file_extension": ".py",
      "mimetype": "text/x-python",
      "name": "python",
      "nbconvert_exporter": "python",
      "pygments_lexer": "ipython3",
      "version": "3.10.14"
    },
    "colab": {
      "provenance": []
    }
  },
  "nbformat": 4,
  "nbformat_minor": 0
}
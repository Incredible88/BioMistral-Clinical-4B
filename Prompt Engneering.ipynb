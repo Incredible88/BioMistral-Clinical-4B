{
  "cells": [
    {
      "cell_type": "markdown",
      "id": "f7d242ec-5de3-478c-b078-9166f20d689a",
      "metadata": {
        "id": "f7d242ec-5de3-478c-b078-9166f20d689a"
      },
      "source": [
        "# Prompt Engineering process"
      ]
    },
    {
      "cell_type": "code",
      "execution_count": null,
      "id": "miNjeq0gXuTH",
      "metadata": {
        "colab": {
          "base_uri": "https://localhost:8080/"
        },
        "id": "miNjeq0gXuTH",
        "outputId": "bde3a9c4-b132-485b-e9e8-f5b01be58759"
      },
      "outputs": [
        {
          "output_type": "stream",
          "name": "stdout",
          "text": [
            "Collecting openai\n",
            "  Downloading openai-1.52.2-py3-none-any.whl.metadata (24 kB)\n",
            "Requirement already satisfied: anyio<5,>=3.5.0 in /usr/local/lib/python3.10/dist-packages (from openai) (3.7.1)\n",
            "Requirement already satisfied: distro<2,>=1.7.0 in /usr/lib/python3/dist-packages (from openai) (1.7.0)\n",
            "Collecting httpx<1,>=0.23.0 (from openai)\n",
            "  Downloading httpx-0.27.2-py3-none-any.whl.metadata (7.1 kB)\n",
            "Collecting jiter<1,>=0.4.0 (from openai)\n",
            "  Downloading jiter-0.6.1-cp310-cp310-manylinux_2_17_x86_64.manylinux2014_x86_64.whl.metadata (5.2 kB)\n",
            "Requirement already satisfied: pydantic<3,>=1.9.0 in /usr/local/lib/python3.10/dist-packages (from openai) (2.9.2)\n",
            "Requirement already satisfied: sniffio in /usr/local/lib/python3.10/dist-packages (from openai) (1.3.1)\n",
            "Requirement already satisfied: tqdm>4 in /usr/local/lib/python3.10/dist-packages (from openai) (4.66.5)\n",
            "Requirement already satisfied: typing-extensions<5,>=4.11 in /usr/local/lib/python3.10/dist-packages (from openai) (4.12.2)\n",
            "Requirement already satisfied: idna>=2.8 in /usr/local/lib/python3.10/dist-packages (from anyio<5,>=3.5.0->openai) (3.10)\n",
            "Requirement already satisfied: exceptiongroup in /usr/local/lib/python3.10/dist-packages (from anyio<5,>=3.5.0->openai) (1.2.2)\n",
            "Requirement already satisfied: certifi in /usr/local/lib/python3.10/dist-packages (from httpx<1,>=0.23.0->openai) (2024.8.30)\n",
            "Collecting httpcore==1.* (from httpx<1,>=0.23.0->openai)\n",
            "  Downloading httpcore-1.0.6-py3-none-any.whl.metadata (21 kB)\n",
            "Collecting h11<0.15,>=0.13 (from httpcore==1.*->httpx<1,>=0.23.0->openai)\n",
            "  Downloading h11-0.14.0-py3-none-any.whl.metadata (8.2 kB)\n",
            "Requirement already satisfied: annotated-types>=0.6.0 in /usr/local/lib/python3.10/dist-packages (from pydantic<3,>=1.9.0->openai) (0.7.0)\n",
            "Requirement already satisfied: pydantic-core==2.23.4 in /usr/local/lib/python3.10/dist-packages (from pydantic<3,>=1.9.0->openai) (2.23.4)\n",
            "Downloading openai-1.52.2-py3-none-any.whl (386 kB)\n",
            "\u001b[2K   \u001b[90m━━━━━━━━━━━━━━━━━━━━━━━━━━━━━━━━━━━━━━━━\u001b[0m \u001b[32m386.9/386.9 kB\u001b[0m \u001b[31m13.6 MB/s\u001b[0m eta \u001b[36m0:00:00\u001b[0m\n",
            "\u001b[?25hDownloading httpx-0.27.2-py3-none-any.whl (76 kB)\n",
            "\u001b[2K   \u001b[90m━━━━━━━━━━━━━━━━━━━━━━━━━━━━━━━━━━━━━━━━\u001b[0m \u001b[32m76.4/76.4 kB\u001b[0m \u001b[31m6.6 MB/s\u001b[0m eta \u001b[36m0:00:00\u001b[0m\n",
            "\u001b[?25hDownloading httpcore-1.0.6-py3-none-any.whl (78 kB)\n",
            "\u001b[2K   \u001b[90m━━━━━━━━━━━━━━━━━━━━━━━━━━━━━━━━━━━━━━━━\u001b[0m \u001b[32m78.0/78.0 kB\u001b[0m \u001b[31m6.8 MB/s\u001b[0m eta \u001b[36m0:00:00\u001b[0m\n",
            "\u001b[?25hDownloading jiter-0.6.1-cp310-cp310-manylinux_2_17_x86_64.manylinux2014_x86_64.whl (325 kB)\n",
            "\u001b[2K   \u001b[90m━━━━━━━━━━━━━━━━━━━━━━━━━━━━━━━━━━━━━━━━\u001b[0m \u001b[32m325.2/325.2 kB\u001b[0m \u001b[31m22.0 MB/s\u001b[0m eta \u001b[36m0:00:00\u001b[0m\n",
            "\u001b[?25hDownloading h11-0.14.0-py3-none-any.whl (58 kB)\n",
            "\u001b[2K   \u001b[90m━━━━━━━━━━━━━━━━━━━━━━━━━━━━━━━━━━━━━━━━\u001b[0m \u001b[32m58.3/58.3 kB\u001b[0m \u001b[31m4.7 MB/s\u001b[0m eta \u001b[36m0:00:00\u001b[0m\n",
            "\u001b[?25hInstalling collected packages: jiter, h11, httpcore, httpx, openai\n",
            "Successfully installed h11-0.14.0 httpcore-1.0.6 httpx-0.27.2 jiter-0.6.1 openai-1.52.2\n"
          ]
        }
      ],
      "source": [
        "pip install openai"
      ]
    },
    {
      "cell_type": "code",
      "execution_count": null,
      "id": "BhOlZuORMbjE",
      "metadata": {
        "id": "BhOlZuORMbjE"
      },
      "outputs": [],
      "source": [
        "import pandas as pd\n",
        "\n",
        "try:\n",
        "    df = pd.read_csv('1000.csv', on_bad_lines='skip')\n",
        "    data = df.iloc[:, 1].reset_index(drop=True)\n",
        "except pd.errors.ParserError as e:\n",
        "    print(f\"Parser error: {e}\")"
      ]
    },
    {
      "cell_type": "code",
      "execution_count": null,
      "id": "KW9M1sC7cXqe",
      "metadata": {
        "id": "KW9M1sC7cXqe",
        "colab": {
          "base_uri": "https://localhost:8080/"
        },
        "outputId": "0df0cbf5-8c3f-483b-d4bd-f934e762ac81"
      },
      "outputs": [
        {
          "output_type": "execute_result",
          "data": {
            "text/plain": [
              "1000"
            ]
          },
          "metadata": {},
          "execution_count": 27
        }
      ],
      "source": [
        "len(data)"
      ]
    },
    {
      "cell_type": "code",
      "execution_count": null,
      "id": "Bz6-8qiLzfdO",
      "metadata": {
        "id": "Bz6-8qiLzfdO"
      },
      "outputs": [],
      "source": [
        "data_list = data.tolist()"
      ]
    },
    {
      "cell_type": "code",
      "execution_count": null,
      "id": "E2XtpjSTzOhU",
      "metadata": {
        "id": "E2XtpjSTzOhU"
      },
      "outputs": [],
      "source": [
        "used_date = data_list"
      ]
    },
    {
      "cell_type": "code",
      "execution_count": null,
      "id": "AA8hFxj0btDF",
      "metadata": {
        "colab": {
          "base_uri": "https://localhost:8080/"
        },
        "id": "AA8hFxj0btDF",
        "outputId": "c6cef2bf-1653-4cd4-e213-d0fbb6b7d6dc"
      },
      "outputs": [
        {
          "output_type": "stream",
          "name": "stdout",
          "text": [
            "env: OPENAI_API_KEY=\n"
          ]
        }
      ],
      "source": [
        "%env OPENAI_API_KEY =\n"
      ]
    },
    {
      "cell_type": "code",
      "execution_count": null,
      "id": "WQSi4TFvbtF2",
      "metadata": {
        "colab": {
          "base_uri": "https://localhost:8080/"
        },
        "id": "WQSi4TFvbtF2",
        "outputId": "5ade8d29-d523-4bc2-d8ad-9a4a02c2c468"
      },
      "outputs": [
        {
          "name": "stderr",
          "output_type": "stream",
          "text": [
            "Processing chunk:   2%|▏         | 19/1000 [02:01<1:48:13,  6.62s/it]"
          ]
        },
        {
          "name": "stdout",
          "output_type": "stream",
          "text": [
            "Error parsing JSON: Expecting value: line 1 column 1 (char 0)\n"
          ]
        },
        {
          "name": "stderr",
          "output_type": "stream",
          "text": [
            "Processing chunk:   3%|▎         | 27/1000 [02:45<1:26:54,  5.36s/it]"
          ]
        },
        {
          "name": "stdout",
          "output_type": "stream",
          "text": [
            "Error parsing JSON: Expecting value: line 1 column 1 (char 0)\n"
          ]
        },
        {
          "name": "stderr",
          "output_type": "stream",
          "text": [
            "Processing chunk:   5%|▍         | 48/1000 [04:42<1:30:49,  5.72s/it]"
          ]
        },
        {
          "name": "stdout",
          "output_type": "stream",
          "text": [
            "Error parsing JSON: Extra data: line 57 column 1 (char 2379)\n"
          ]
        },
        {
          "name": "stderr",
          "output_type": "stream",
          "text": [
            "Processing chunk:   6%|▌         | 55/1000 [05:13<1:14:11,  4.71s/it]"
          ]
        },
        {
          "name": "stdout",
          "output_type": "stream",
          "text": [
            "Error parsing JSON: Expecting ',' delimiter: line 28 column 9 (char 1114)\n"
          ]
        },
        {
          "name": "stderr",
          "output_type": "stream",
          "text": [
            "Processing chunk:   8%|▊         | 77/1000 [07:17<1:30:42,  5.90s/it]"
          ]
        },
        {
          "name": "stdout",
          "output_type": "stream",
          "text": [
            "Error parsing JSON: Expecting value: line 1 column 1 (char 0)\n"
          ]
        },
        {
          "name": "stderr",
          "output_type": "stream",
          "text": [
            "Processing chunk:   9%|▊         | 87/1000 [08:14<1:28:46,  5.83s/it]"
          ]
        },
        {
          "name": "stdout",
          "output_type": "stream",
          "text": [
            "Error parsing JSON: Expecting value: line 1 column 1 (char 0)\n"
          ]
        },
        {
          "name": "stderr",
          "output_type": "stream",
          "text": [
            "Processing chunk:   9%|▉         | 91/1000 [08:33<1:17:50,  5.14s/it]"
          ]
        },
        {
          "name": "stdout",
          "output_type": "stream",
          "text": [
            "Error parsing JSON: Expecting value: line 1 column 1 (char 0)\n"
          ]
        },
        {
          "name": "stderr",
          "output_type": "stream",
          "text": [
            "Processing chunk:   9%|▉         | 94/1000 [09:06<2:05:51,  8.33s/it]"
          ]
        },
        {
          "name": "stdout",
          "output_type": "stream",
          "text": [
            "Error parsing JSON: Expecting ':' delimiter: line 73 column 9 (char 2437)\n"
          ]
        },
        {
          "name": "stderr",
          "output_type": "stream",
          "text": [
            "Processing chunk:  10%|▉         | 98/1000 [09:30<1:41:07,  6.73s/it]"
          ]
        },
        {
          "name": "stdout",
          "output_type": "stream",
          "text": [
            "Error parsing JSON: Expecting value: line 1 column 1 (char 0)\n"
          ]
        },
        {
          "name": "stderr",
          "output_type": "stream",
          "text": [
            "Processing chunk:  10%|█         | 105/1000 [10:11<1:29:33,  6.00s/it]"
          ]
        },
        {
          "name": "stdout",
          "output_type": "stream",
          "text": [
            "Error parsing JSON: Expecting value: line 1 column 1 (char 0)\n"
          ]
        },
        {
          "name": "stderr",
          "output_type": "stream",
          "text": [
            "Processing chunk:  12%|█▏        | 115/1000 [11:17<1:32:49,  6.29s/it]"
          ]
        },
        {
          "name": "stdout",
          "output_type": "stream",
          "text": [
            "Error parsing JSON: Expecting value: line 1 column 1 (char 0)\n"
          ]
        },
        {
          "name": "stderr",
          "output_type": "stream",
          "text": [
            "Processing chunk:  14%|█▎        | 135/1000 [13:18<58:13,  4.04s/it]  "
          ]
        },
        {
          "name": "stdout",
          "output_type": "stream",
          "text": [
            "Error parsing JSON: Expecting value: line 1 column 1 (char 0)\n"
          ]
        },
        {
          "name": "stderr",
          "output_type": "stream",
          "text": [
            "\rProcessing chunk:  14%|█▎        | 136/1000 [13:23<1:03:18,  4.40s/it]"
          ]
        },
        {
          "name": "stdout",
          "output_type": "stream",
          "text": [
            "Error parsing JSON: Extra data: line 1 column 1326 (char 1325)\n"
          ]
        },
        {
          "name": "stderr",
          "output_type": "stream",
          "text": [
            "Processing chunk:  14%|█▍        | 141/1000 [14:02<1:48:03,  7.55s/it]"
          ]
        },
        {
          "name": "stdout",
          "output_type": "stream",
          "text": [
            "Error parsing JSON: Expecting ':' delimiter: line 9 column 9 (char 320)\n"
          ]
        },
        {
          "name": "stderr",
          "output_type": "stream",
          "text": [
            "Processing chunk:  14%|█▍        | 145/1000 [14:26<1:41:27,  7.12s/it]"
          ]
        },
        {
          "name": "stdout",
          "output_type": "stream",
          "text": [
            "Error parsing JSON: Expecting value: line 1 column 1 (char 0)\n"
          ]
        },
        {
          "name": "stderr",
          "output_type": "stream",
          "text": [
            "Processing chunk:  16%|█▌        | 161/1000 [15:49<1:40:58,  7.22s/it]"
          ]
        },
        {
          "name": "stdout",
          "output_type": "stream",
          "text": [
            "Error parsing JSON: Expecting value: line 1 column 1 (char 0)\n"
          ]
        },
        {
          "name": "stderr",
          "output_type": "stream",
          "text": [
            "Processing chunk:  17%|█▋        | 171/1000 [16:37<56:35,  4.10s/it]  "
          ]
        },
        {
          "name": "stdout",
          "output_type": "stream",
          "text": [
            "Error parsing JSON: Expecting value: line 1 column 1 (char 0)\n"
          ]
        },
        {
          "name": "stderr",
          "output_type": "stream",
          "text": [
            "\rProcessing chunk:  17%|█▋        | 172/1000 [16:43<1:06:11,  4.80s/it]"
          ]
        },
        {
          "name": "stdout",
          "output_type": "stream",
          "text": [
            "Error parsing JSON: Expecting value: line 1 column 1 (char 0)\n"
          ]
        },
        {
          "name": "stderr",
          "output_type": "stream",
          "text": [
            "Processing chunk:  18%|█▊        | 178/1000 [17:14<1:02:21,  4.55s/it]"
          ]
        },
        {
          "name": "stdout",
          "output_type": "stream",
          "text": [
            "Error parsing JSON: Expecting value: line 1 column 1 (char 0)\n"
          ]
        },
        {
          "name": "stderr",
          "output_type": "stream",
          "text": [
            "Processing chunk:  19%|█▉        | 191/1000 [18:32<1:49:31,  8.12s/it]"
          ]
        },
        {
          "name": "stdout",
          "output_type": "stream",
          "text": [
            "Error parsing JSON: Expecting value: line 1 column 1 (char 0)\n"
          ]
        },
        {
          "name": "stderr",
          "output_type": "stream",
          "text": [
            "Processing chunk:  19%|█▉        | 193/1000 [18:36<1:07:02,  4.98s/it]"
          ]
        },
        {
          "name": "stdout",
          "output_type": "stream",
          "text": [
            "Error parsing JSON: Expecting value: line 1 column 1 (char 0)\n"
          ]
        },
        {
          "name": "stderr",
          "output_type": "stream",
          "text": [
            "Processing chunk:  20%|█▉        | 197/1000 [18:55<1:05:16,  4.88s/it]"
          ]
        },
        {
          "name": "stdout",
          "output_type": "stream",
          "text": [
            "Error parsing JSON: Expecting value: line 1 column 1 (char 0)\n"
          ]
        },
        {
          "name": "stderr",
          "output_type": "stream",
          "text": [
            "Processing chunk:  20%|█▉        | 199/1000 [19:11<1:25:53,  6.43s/it]"
          ]
        },
        {
          "name": "stdout",
          "output_type": "stream",
          "text": [
            "Error parsing JSON: Extra data: line 44 column 1 (char 1210)\n"
          ]
        },
        {
          "name": "stderr",
          "output_type": "stream",
          "text": [
            "Processing chunk:  22%|██▏       | 223/1000 [21:30<1:13:00,  5.64s/it]"
          ]
        },
        {
          "name": "stdout",
          "output_type": "stream",
          "text": [
            "Error parsing JSON: Expecting value: line 1 column 1 (char 0)\n"
          ]
        },
        {
          "name": "stderr",
          "output_type": "stream",
          "text": [
            "Processing chunk:  22%|██▎       | 225/1000 [21:43<1:16:15,  5.90s/it]"
          ]
        },
        {
          "name": "stdout",
          "output_type": "stream",
          "text": [
            "Error parsing JSON: Expecting value: line 1 column 1 (char 0)\n"
          ]
        },
        {
          "name": "stderr",
          "output_type": "stream",
          "text": [
            "Processing chunk:  24%|██▍       | 245/1000 [23:32<57:53,  4.60s/it]"
          ]
        },
        {
          "name": "stdout",
          "output_type": "stream",
          "text": [
            "Error parsing JSON: Expecting value: line 1 column 1 (char 0)\n"
          ]
        },
        {
          "name": "stderr",
          "output_type": "stream",
          "text": [
            "Processing chunk:  25%|██▌       | 250/1000 [23:57<53:30,  4.28s/it]  "
          ]
        },
        {
          "name": "stdout",
          "output_type": "stream",
          "text": [
            "Error parsing JSON: Expecting value: line 1 column 1 (char 0)\n"
          ]
        },
        {
          "name": "stderr",
          "output_type": "stream",
          "text": [
            "Processing chunk:  25%|██▌       | 254/1000 [24:20<1:00:16,  4.85s/it]"
          ]
        },
        {
          "name": "stdout",
          "output_type": "stream",
          "text": [
            "Error parsing JSON: Expecting value: line 1 column 1 (char 0)\n"
          ]
        },
        {
          "name": "stderr",
          "output_type": "stream",
          "text": [
            "Processing chunk:  26%|██▌       | 256/1000 [24:31<1:00:27,  4.88s/it]"
          ]
        },
        {
          "name": "stdout",
          "output_type": "stream",
          "text": [
            "Error parsing JSON: Expecting property name enclosed in double quotes: line 10 column 5 (char 408)\n"
          ]
        },
        {
          "name": "stderr",
          "output_type": "stream",
          "text": [
            "Processing chunk:  26%|██▌       | 259/1000 [24:37<37:05,  3.00s/it]"
          ]
        },
        {
          "name": "stdout",
          "output_type": "stream",
          "text": [
            "Error parsing JSON: Expecting value: line 1 column 1 (char 0)\n"
          ]
        },
        {
          "name": "stderr",
          "output_type": "stream",
          "text": [
            "Processing chunk:  27%|██▋       | 267/1000 [25:13<48:16,  3.95s/it]"
          ]
        },
        {
          "name": "stdout",
          "output_type": "stream",
          "text": [
            "Error parsing JSON: Extra data: line 62 column 1 (char 1865)\n"
          ]
        },
        {
          "name": "stderr",
          "output_type": "stream",
          "text": [
            "Processing chunk:  28%|██▊       | 285/1000 [26:44<41:14,  3.46s/it]"
          ]
        },
        {
          "name": "stdout",
          "output_type": "stream",
          "text": [
            "Error parsing JSON: Expecting value: line 1 column 1 (char 0)\n"
          ]
        },
        {
          "name": "stderr",
          "output_type": "stream",
          "text": [
            "Processing chunk:  29%|██▉       | 293/1000 [27:25<59:13,  5.03s/it]  "
          ]
        },
        {
          "name": "stdout",
          "output_type": "stream",
          "text": [
            "Error parsing JSON: Expecting value: line 1 column 1 (char 0)\n"
          ]
        },
        {
          "name": "stderr",
          "output_type": "stream",
          "text": [
            "Processing chunk:  30%|██▉       | 296/1000 [27:49<1:18:47,  6.71s/it]"
          ]
        },
        {
          "name": "stdout",
          "output_type": "stream",
          "text": [
            "Error parsing JSON: Expecting value: line 1 column 1 (char 0)\n"
          ]
        },
        {
          "name": "stderr",
          "output_type": "stream",
          "text": [
            "Processing chunk:  30%|██▉       | 299/1000 [28:06<1:10:41,  6.05s/it]"
          ]
        },
        {
          "name": "stdout",
          "output_type": "stream",
          "text": [
            "Error parsing JSON: Expecting value: line 1 column 1 (char 0)\n"
          ]
        },
        {
          "name": "stderr",
          "output_type": "stream",
          "text": [
            "Processing chunk:  31%|███       | 306/1000 [28:45<1:13:17,  6.34s/it]"
          ]
        },
        {
          "name": "stdout",
          "output_type": "stream",
          "text": [
            "Error parsing JSON: Expecting value: line 1 column 1 (char 0)\n"
          ]
        },
        {
          "name": "stderr",
          "output_type": "stream",
          "text": [
            "Processing chunk:  32%|███▏      | 323/1000 [30:27<1:13:14,  6.49s/it]"
          ]
        },
        {
          "name": "stdout",
          "output_type": "stream",
          "text": [
            "Error parsing JSON: Extra data: line 47 column 1 (char 1343)\n"
          ]
        },
        {
          "name": "stderr",
          "output_type": "stream",
          "text": [
            "Processing chunk:  33%|███▎      | 333/1000 [31:14<55:51,  5.03s/it]"
          ]
        },
        {
          "name": "stdout",
          "output_type": "stream",
          "text": [
            "Error parsing JSON: Expecting value: line 1 column 1 (char 0)\n"
          ]
        },
        {
          "name": "stderr",
          "output_type": "stream",
          "text": [
            "Processing chunk:  34%|███▍      | 339/1000 [31:42<59:47,  5.43s/it]"
          ]
        },
        {
          "name": "stdout",
          "output_type": "stream",
          "text": [
            "Error parsing JSON: Expecting value: line 1 column 1 (char 0)\n"
          ]
        },
        {
          "name": "stderr",
          "output_type": "stream",
          "text": [
            "Processing chunk:  37%|███▋      | 368/1000 [34:14<41:01,  3.89s/it]"
          ]
        },
        {
          "name": "stdout",
          "output_type": "stream",
          "text": [
            "Error parsing JSON: Expecting value: line 1 column 1 (char 0)\n"
          ]
        },
        {
          "name": "stderr",
          "output_type": "stream",
          "text": [
            "Processing chunk:  37%|███▋      | 373/1000 [34:34<39:01,  3.73s/it]"
          ]
        },
        {
          "name": "stdout",
          "output_type": "stream",
          "text": [
            "Error parsing JSON: Expecting value: line 1 column 1 (char 0)\n"
          ]
        },
        {
          "name": "stderr",
          "output_type": "stream",
          "text": [
            "Processing chunk:  38%|███▊      | 382/1000 [35:30<1:00:54,  5.91s/it]"
          ]
        },
        {
          "name": "stdout",
          "output_type": "stream",
          "text": [
            "Error parsing JSON: Expecting value: line 1 column 1 (char 0)\n"
          ]
        },
        {
          "name": "stderr",
          "output_type": "stream",
          "text": [
            "Processing chunk:  39%|███▉      | 388/1000 [35:55<43:34,  4.27s/it]"
          ]
        },
        {
          "name": "stdout",
          "output_type": "stream",
          "text": [
            "Error parsing JSON: Extra data: line 1 column 985 (char 984)\n"
          ]
        },
        {
          "name": "stderr",
          "output_type": "stream",
          "text": [
            "Processing chunk:  40%|████      | 403/1000 [37:35<58:02,  5.83s/it]  "
          ]
        },
        {
          "name": "stdout",
          "output_type": "stream",
          "text": [
            "Error parsing JSON: Expecting property name enclosed in double quotes: line 9 column 5 (char 302)\n"
          ]
        },
        {
          "name": "stderr",
          "output_type": "stream",
          "text": [
            "Processing chunk:  41%|████      | 410/1000 [38:15<54:08,  5.51s/it]"
          ]
        },
        {
          "name": "stdout",
          "output_type": "stream",
          "text": [
            "Error parsing JSON: Expecting value: line 1 column 1 (char 0)\n"
          ]
        },
        {
          "name": "stderr",
          "output_type": "stream",
          "text": [
            "Processing chunk:  42%|████▏     | 418/1000 [39:01<1:05:19,  6.74s/it]"
          ]
        },
        {
          "name": "stdout",
          "output_type": "stream",
          "text": [
            "Error parsing JSON: Expecting property name enclosed in double quotes: line 12 column 9 (char 330)\n"
          ]
        },
        {
          "name": "stderr",
          "output_type": "stream",
          "text": [
            "Processing chunk:  42%|████▏     | 423/1000 [39:35<1:08:43,  7.15s/it]"
          ]
        },
        {
          "name": "stdout",
          "output_type": "stream",
          "text": [
            "Error parsing JSON: Expecting value: line 1 column 1 (char 0)\n"
          ]
        },
        {
          "name": "stderr",
          "output_type": "stream",
          "text": [
            "Processing chunk:  44%|████▍     | 444/1000 [41:10<37:17,  4.03s/it]"
          ]
        },
        {
          "name": "stdout",
          "output_type": "stream",
          "text": [
            "Error parsing JSON: Expecting value: line 1 column 1 (char 0)\n"
          ]
        },
        {
          "name": "stderr",
          "output_type": "stream",
          "text": [
            "Processing chunk:  45%|████▍     | 448/1000 [41:31<50:35,  5.50s/it]"
          ]
        },
        {
          "name": "stdout",
          "output_type": "stream",
          "text": [
            "Error parsing JSON: Expecting value: line 1 column 1 (char 0)\n"
          ]
        },
        {
          "name": "stderr",
          "output_type": "stream",
          "text": [
            "Processing chunk:  46%|████▌     | 461/1000 [42:38<40:36,  4.52s/it]"
          ]
        },
        {
          "name": "stdout",
          "output_type": "stream",
          "text": [
            "Error parsing JSON: Expecting ':' delimiter: line 11 column 5 (char 439)\n"
          ]
        },
        {
          "name": "stderr",
          "output_type": "stream",
          "text": [
            "\rProcessing chunk:  46%|████▌     | 462/1000 [42:40<32:58,  3.68s/it]"
          ]
        },
        {
          "name": "stdout",
          "output_type": "stream",
          "text": [
            "Error parsing JSON: Expecting value: line 1 column 1 (char 0)\n"
          ]
        },
        {
          "name": "stderr",
          "output_type": "stream",
          "text": [
            "Processing chunk:  46%|████▋     | 464/1000 [42:48<33:29,  3.75s/it]"
          ]
        },
        {
          "name": "stdout",
          "output_type": "stream",
          "text": [
            "Error parsing JSON: Expecting value: line 1 column 1 (char 0)\n"
          ]
        },
        {
          "name": "stderr",
          "output_type": "stream",
          "text": [
            "Processing chunk:  47%|████▋     | 470/1000 [43:33<1:04:58,  7.36s/it]"
          ]
        },
        {
          "name": "stdout",
          "output_type": "stream",
          "text": [
            "Error parsing JSON: Extra data: line 41 column 1 (char 2424)\n"
          ]
        },
        {
          "name": "stderr",
          "output_type": "stream",
          "text": [
            "\rProcessing chunk:  47%|████▋     | 471/1000 [43:40<1:04:25,  7.31s/it]"
          ]
        },
        {
          "name": "stdout",
          "output_type": "stream",
          "text": [
            "Error parsing JSON: Expecting value: line 1 column 1 (char 0)\n"
          ]
        },
        {
          "name": "stderr",
          "output_type": "stream",
          "text": [
            "Processing chunk:  48%|████▊     | 485/1000 [44:57<40:11,  4.68s/it]"
          ]
        },
        {
          "name": "stdout",
          "output_type": "stream",
          "text": [
            "Error parsing JSON: Expecting ',' delimiter: line 40 column 2 (char 1058)\n"
          ]
        },
        {
          "name": "stderr",
          "output_type": "stream",
          "text": [
            "Processing chunk:  50%|████▉     | 496/1000 [45:57<51:10,  6.09s/it]"
          ]
        },
        {
          "name": "stdout",
          "output_type": "stream",
          "text": [
            "Error parsing JSON: Expecting value: line 1 column 1 (char 0)\n"
          ]
        },
        {
          "name": "stderr",
          "output_type": "stream",
          "text": [
            "Processing chunk:  51%|█████     | 512/1000 [47:32<37:02,  4.55s/it]"
          ]
        },
        {
          "name": "stdout",
          "output_type": "stream",
          "text": [
            "Error parsing JSON: Extra data: line 37 column 1 (char 1123)\n"
          ]
        },
        {
          "name": "stderr",
          "output_type": "stream",
          "text": [
            "Processing chunk:  52%|█████▏    | 516/1000 [47:53<39:09,  4.85s/it]"
          ]
        },
        {
          "name": "stdout",
          "output_type": "stream",
          "text": [
            "Error parsing JSON: Expecting property name enclosed in double quotes: line 8 column 9 (char 171)\n"
          ]
        },
        {
          "name": "stderr",
          "output_type": "stream",
          "text": [
            "Processing chunk:  52%|█████▏    | 520/1000 [48:23<54:02,  6.75s/it]"
          ]
        },
        {
          "name": "stdout",
          "output_type": "stream",
          "text": [
            "Error parsing JSON: Expecting ',' delimiter: line 44 column 42 (char 1934)\n"
          ]
        },
        {
          "name": "stderr",
          "output_type": "stream",
          "text": [
            "Processing chunk:  53%|█████▎    | 530/1000 [49:19<41:43,  5.33s/it]"
          ]
        },
        {
          "name": "stdout",
          "output_type": "stream",
          "text": [
            "Error parsing JSON: Expecting value: line 1 column 1 (char 0)\n"
          ]
        },
        {
          "name": "stderr",
          "output_type": "stream",
          "text": [
            "\rProcessing chunk:  53%|█████▎    | 531/1000 [49:25<44:14,  5.66s/it]"
          ]
        },
        {
          "name": "stdout",
          "output_type": "stream",
          "text": [
            "Error parsing JSON: Expecting value: line 1 column 1 (char 0)\n"
          ]
        },
        {
          "name": "stderr",
          "output_type": "stream",
          "text": [
            "Processing chunk:  57%|█████▋    | 568/1000 [53:13<35:45,  4.97s/it]"
          ]
        },
        {
          "name": "stdout",
          "output_type": "stream",
          "text": [
            "Error parsing JSON: Expecting ':' delimiter: line 17 column 5 (char 900)\n"
          ]
        },
        {
          "name": "stderr",
          "output_type": "stream",
          "text": [
            "Processing chunk:  57%|█████▋    | 570/1000 [53:24<35:37,  4.97s/it]"
          ]
        },
        {
          "name": "stdout",
          "output_type": "stream",
          "text": [
            "Error parsing JSON: Expecting ':' delimiter: line 11 column 5 (char 273)\n"
          ]
        },
        {
          "name": "stderr",
          "output_type": "stream",
          "text": [
            "Processing chunk:  58%|█████▊    | 576/1000 [53:47<24:44,  3.50s/it]"
          ]
        },
        {
          "name": "stdout",
          "output_type": "stream",
          "text": [
            "Error parsing JSON: Expecting value: line 1 column 1 (char 0)\n"
          ]
        },
        {
          "name": "stderr",
          "output_type": "stream",
          "text": [
            "Processing chunk:  61%|██████    | 610/1000 [56:49<27:09,  4.18s/it]"
          ]
        },
        {
          "name": "stdout",
          "output_type": "stream",
          "text": [
            "Error parsing JSON: Expecting value: line 1 column 1 (char 0)\n"
          ]
        },
        {
          "name": "stderr",
          "output_type": "stream",
          "text": [
            "Processing chunk:  62%|██████▏   | 616/1000 [57:25<35:18,  5.52s/it]"
          ]
        },
        {
          "name": "stdout",
          "output_type": "stream",
          "text": [
            "Error parsing JSON: Expecting value: line 1 column 1 (char 0)\n"
          ]
        },
        {
          "name": "stderr",
          "output_type": "stream",
          "text": [
            "Processing chunk:  62%|██████▏   | 620/1000 [57:49<34:55,  5.51s/it]"
          ]
        },
        {
          "name": "stdout",
          "output_type": "stream",
          "text": [
            "Error parsing JSON: Expecting value: line 1 column 1 (char 0)\n"
          ]
        },
        {
          "name": "stderr",
          "output_type": "stream",
          "text": [
            "Processing chunk:  64%|██████▎   | 636/1000 [59:19<36:58,  6.09s/it]"
          ]
        },
        {
          "name": "stdout",
          "output_type": "stream",
          "text": [
            "Error parsing JSON: Expecting value: line 1 column 1 (char 0)\n"
          ]
        },
        {
          "name": "stderr",
          "output_type": "stream",
          "text": [
            "Processing chunk:  66%|██████▋   | 664/1000 [1:02:11<38:23,  6.86s/it]"
          ]
        },
        {
          "name": "stdout",
          "output_type": "stream",
          "text": [
            "Error parsing JSON: Extra data: line 44 column 1 (char 2178)\n"
          ]
        },
        {
          "name": "stderr",
          "output_type": "stream",
          "text": [
            "Processing chunk:  67%|██████▋   | 670/1000 [1:02:47<30:27,  5.54s/it]"
          ]
        },
        {
          "name": "stdout",
          "output_type": "stream",
          "text": [
            "Error parsing JSON: Expecting value: line 1 column 1 (char 0)\n"
          ]
        },
        {
          "name": "stderr",
          "output_type": "stream",
          "text": [
            "Processing chunk:  69%|██████▉   | 688/1000 [1:04:21<28:40,  5.52s/it]"
          ]
        },
        {
          "name": "stdout",
          "output_type": "stream",
          "text": [
            "Error parsing JSON: Expecting value: line 1 column 1 (char 0)\n"
          ]
        },
        {
          "name": "stderr",
          "output_type": "stream",
          "text": [
            "Processing chunk:  71%|███████   | 712/1000 [1:06:38<24:34,  5.12s/it]"
          ]
        },
        {
          "name": "stdout",
          "output_type": "stream",
          "text": [
            "Error parsing JSON: Extra data: line 50 column 1 (char 1342)\n"
          ]
        },
        {
          "name": "stderr",
          "output_type": "stream",
          "text": [
            "Processing chunk:  74%|███████▎  | 735/1000 [1:08:34<19:16,  4.36s/it]"
          ]
        },
        {
          "name": "stdout",
          "output_type": "stream",
          "text": [
            "Error parsing JSON: Expecting value: line 1 column 1 (char 0)\n"
          ]
        },
        {
          "name": "stderr",
          "output_type": "stream",
          "text": [
            "Processing chunk:  75%|███████▍  | 748/1000 [1:09:51<27:05,  6.45s/it]"
          ]
        },
        {
          "name": "stdout",
          "output_type": "stream",
          "text": [
            "Error parsing JSON: Expecting value: line 1 column 1 (char 0)\n"
          ]
        },
        {
          "name": "stderr",
          "output_type": "stream",
          "text": [
            "Processing chunk:  76%|███████▌  | 761/1000 [1:11:00<24:51,  6.24s/it]"
          ]
        },
        {
          "name": "stdout",
          "output_type": "stream",
          "text": [
            "Error parsing JSON: Expecting ':' delimiter: line 10 column 19 (char 342)\n"
          ]
        },
        {
          "name": "stderr",
          "output_type": "stream",
          "text": [
            "Processing chunk:  77%|███████▋  | 769/1000 [1:11:35<17:02,  4.43s/it]"
          ]
        },
        {
          "name": "stdout",
          "output_type": "stream",
          "text": [
            "Error parsing JSON: Extra data: line 56 column 1 (char 2185)\n"
          ]
        },
        {
          "name": "stderr",
          "output_type": "stream",
          "text": [
            "\rProcessing chunk:  77%|███████▋  | 770/1000 [1:11:36<13:21,  3.49s/it]"
          ]
        },
        {
          "name": "stdout",
          "output_type": "stream",
          "text": [
            "Error parsing JSON: Expecting value: line 1 column 1 (char 0)\n"
          ]
        },
        {
          "name": "stderr",
          "output_type": "stream",
          "text": [
            "Processing chunk:  78%|███████▊  | 778/1000 [1:12:19<15:09,  4.10s/it]"
          ]
        },
        {
          "name": "stdout",
          "output_type": "stream",
          "text": [
            "Error parsing JSON: Expecting value: line 1 column 1 (char 0)\n"
          ]
        },
        {
          "name": "stderr",
          "output_type": "stream",
          "text": [
            "Processing chunk:  78%|███████▊  | 785/1000 [1:13:02<27:17,  7.61s/it]"
          ]
        },
        {
          "name": "stdout",
          "output_type": "stream",
          "text": [
            "Error parsing JSON: Expecting ':' delimiter: line 10 column 86 (char 505)\n"
          ]
        },
        {
          "name": "stderr",
          "output_type": "stream",
          "text": [
            "Processing chunk:  79%|███████▉  | 794/1000 [1:13:51<22:10,  6.46s/it]"
          ]
        },
        {
          "name": "stdout",
          "output_type": "stream",
          "text": [
            "Error parsing JSON: Expecting value: line 1 column 1 (char 0)\n"
          ]
        },
        {
          "name": "stderr",
          "output_type": "stream",
          "text": [
            "Processing chunk:  81%|████████▏ | 813/1000 [1:15:35<16:05,  5.16s/it]"
          ]
        },
        {
          "name": "stdout",
          "output_type": "stream",
          "text": [
            "Error parsing JSON: Expecting value: line 1 column 1 (char 0)\n"
          ]
        },
        {
          "name": "stderr",
          "output_type": "stream",
          "text": [
            "Processing chunk:  83%|████████▎ | 830/1000 [1:17:17<17:49,  6.29s/it]"
          ]
        },
        {
          "name": "stdout",
          "output_type": "stream",
          "text": [
            "Error parsing JSON: Expecting value: line 1 column 1 (char 0)\n"
          ]
        },
        {
          "name": "stderr",
          "output_type": "stream",
          "text": [
            "Processing chunk:  84%|████████▎ | 836/1000 [1:17:41<12:05,  4.43s/it]"
          ]
        },
        {
          "name": "stdout",
          "output_type": "stream",
          "text": [
            "Error parsing JSON: Expecting property name enclosed in double quotes: line 27 column 9 (char 1079)\n"
          ]
        },
        {
          "name": "stderr",
          "output_type": "stream",
          "text": [
            "Processing chunk:  86%|████████▌ | 860/1000 [1:19:56<12:14,  5.24s/it]"
          ]
        },
        {
          "name": "stdout",
          "output_type": "stream",
          "text": [
            "Error parsing JSON: Expecting value: line 1 column 1 (char 0)\n"
          ]
        },
        {
          "name": "stderr",
          "output_type": "stream",
          "text": [
            "Processing chunk:  87%|████████▋ | 866/1000 [1:20:22<08:10,  3.66s/it]"
          ]
        },
        {
          "name": "stdout",
          "output_type": "stream",
          "text": [
            "Error parsing JSON: Expecting value: line 1 column 1 (char 0)\n"
          ]
        },
        {
          "name": "stderr",
          "output_type": "stream",
          "text": [
            "Processing chunk:  87%|████████▋ | 874/1000 [1:21:02<11:19,  5.39s/it]"
          ]
        },
        {
          "name": "stdout",
          "output_type": "stream",
          "text": [
            "Error parsing JSON: Extra data: line 58 column 1 (char 1654)\n"
          ]
        },
        {
          "name": "stderr",
          "output_type": "stream",
          "text": [
            "Processing chunk:  89%|████████▉ | 891/1000 [1:22:43<12:19,  6.79s/it]"
          ]
        },
        {
          "name": "stdout",
          "output_type": "stream",
          "text": [
            "Error parsing JSON: Expecting value: line 1 column 1 (char 0)\n"
          ]
        },
        {
          "name": "stderr",
          "output_type": "stream",
          "text": [
            "Processing chunk:  90%|████████▉ | 897/1000 [1:23:14<09:24,  5.48s/it]"
          ]
        },
        {
          "name": "stdout",
          "output_type": "stream",
          "text": [
            "Error parsing JSON: Expecting value: line 1 column 1 (char 0)\n"
          ]
        },
        {
          "name": "stderr",
          "output_type": "stream",
          "text": [
            "Processing chunk:  90%|█████████ | 902/1000 [1:23:48<10:36,  6.50s/it]"
          ]
        },
        {
          "name": "stdout",
          "output_type": "stream",
          "text": [
            "Error parsing JSON: Expecting value: line 1 column 1 (char 0)\n"
          ]
        },
        {
          "name": "stderr",
          "output_type": "stream",
          "text": [
            "Processing chunk:  94%|█████████▍| 944/1000 [1:27:47<05:05,  5.46s/it]"
          ]
        },
        {
          "name": "stdout",
          "output_type": "stream",
          "text": [
            "Error parsing JSON: Expecting value: line 1 column 1 (char 0)\n"
          ]
        },
        {
          "name": "stderr",
          "output_type": "stream",
          "text": [
            "Processing chunk:  96%|█████████▌| 962/1000 [1:29:07<02:54,  4.60s/it]"
          ]
        },
        {
          "name": "stdout",
          "output_type": "stream",
          "text": [
            "Error parsing JSON: Expecting value: line 1 column 1 (char 0)\n"
          ]
        },
        {
          "name": "stderr",
          "output_type": "stream",
          "text": [
            "Processing chunk:  96%|█████████▋| 965/1000 [1:29:21<02:38,  4.52s/it]"
          ]
        },
        {
          "name": "stdout",
          "output_type": "stream",
          "text": [
            "Error parsing JSON: Expecting value: line 1 column 1 (char 0)\n"
          ]
        },
        {
          "name": "stderr",
          "output_type": "stream",
          "text": [
            "Processing chunk:  97%|█████████▋| 973/1000 [1:30:04<02:07,  4.74s/it]"
          ]
        },
        {
          "name": "stdout",
          "output_type": "stream",
          "text": [
            "Error parsing JSON: Expecting value: line 1 column 1 (char 0)\n"
          ]
        },
        {
          "name": "stderr",
          "output_type": "stream",
          "text": [
            "Processing chunk:  98%|█████████▊| 977/1000 [1:30:20<01:37,  4.24s/it]"
          ]
        },
        {
          "name": "stdout",
          "output_type": "stream",
          "text": [
            "Error parsing JSON: Extra data: line 1 column 1408 (char 1407)\n"
          ]
        },
        {
          "name": "stderr",
          "output_type": "stream",
          "text": [
            "\rProcessing chunk:  98%|█████████▊| 978/1000 [1:30:30<02:05,  5.71s/it]"
          ]
        },
        {
          "name": "stdout",
          "output_type": "stream",
          "text": [
            "Error parsing JSON: Expecting ',' delimiter: line 52 column 2 (char 2248)\n"
          ]
        },
        {
          "name": "stderr",
          "output_type": "stream",
          "text": [
            "Processing chunk:  99%|█████████▉| 991/1000 [1:31:35<00:41,  4.58s/it]"
          ]
        },
        {
          "name": "stdout",
          "output_type": "stream",
          "text": [
            "Error parsing JSON: Expecting value: line 1 column 1 (char 0)\n"
          ]
        },
        {
          "name": "stderr",
          "output_type": "stream",
          "text": [
            "Processing chunk: 100%|██████████| 1000/1000 [1:32:26<00:00,  5.55s/it]\n"
          ]
        }
      ],
      "source": [
        "import pandas as pd\n",
        "import openai\n",
        "import json\n",
        "from tqdm import tqdm\n",
        "import csv\n",
        "results = []\n",
        "for message in tqdm(used_date, desc=f\"Processing chunk\"):\n",
        "    prompt = {\n",
        "            \"role\": \"user\",\n",
        "            \"content\": f\"\"\"As a professional clinical notes organizer, my task is to take a set of clinical notes and structure them into a JSON format. This format will help in standardizing the patient data for better analysis and record-keeping. Below, I will explain each field in the JSON structure and provide an example based on a hypothetical clinical note.\n",
        "\n",
        "    JSON Field Explanation:\n",
        "\n",
        "    PatientInformation: This section captures the patient's presenting complaints and historical medical information.\n",
        "    ChiefComplaints: A list of the main issues the patient is experiencing, as reported by the patient.\n",
        "    MedicalHistory: Includes any past injuries or significant health issues that are relevant to the current condition.\n",
        "    DiagnosticFindings: A list of diagnostic tests conducted and their findings. Each item includes the type of Test conducted and the Finding from that test\n",
        "\n",
        "    Diagnosis: This section includes the diagnosed disease.\n",
        "    Disease: Details the name, type, and location of the diagnosed disease.\n",
        "\n",
        "    TreatmentAndOutcome: This section outlines the treatment provided and the subsequent outcome.\n",
        "    Treatment: Describes the type of treatment and any specific details about the procedure.\n",
        "    Type: The general category of treatment.\n",
        "    Details: Specifics about what the treatment entailed.\n",
        "    Postoperative Course: Information about the recovery process after surgery.\n",
        "    Recovery: General description of the recovery process.\n",
        "    FollowUp: Information about any follow-up care or observations.\n",
        "    FunctionalStatus: Any observations about the patient's functionality or quality of life post-treatment.\n",
        "\n",
        "    Example Output:\n",
        "    {{\n",
        "    \"PatientInformation\": {{\n",
        "        \"ChiefComplaints\": [\n",
        "        \"Complaints of pain and swelling in the right back for several weeks\",\n",
        "        \"No significant health problems except a thoracic trauma one year prior\"\n",
        "        ],\n",
        "        \"MedicalHistory\": {{\n",
        "        \"PreviousInjury\": \"Thoracic trauma with a simple fracture of the 9th right rib\"\n",
        "        }},\n",
        "        \"DiagnosticFindings\": [\n",
        "        {{\n",
        "            \"Test\": \"X-ray\",\n",
        "            \"Finding\": \"A shadow in the lower part of the right hemithorax\"\n",
        "        }},\n",
        "        {{\n",
        "            \"Test\": \"CT-scan\",\n",
        "            \"Finding\": \"A tumor with heterogeneous density and destruction of the 9th rib\"\n",
        "        }}\n",
        "        ]\n",
        "    }},\n",
        "    \"Diagnosis\": {{\n",
        "        \"Disease\": {{\n",
        "        \"Name\": \"Sclerosing xanthofibroma\",\n",
        "        \"Type\": \"Benign tumor\",\n",
        "        \"Location\": \"Thoracic wall\"\n",
        "        }}\n",
        "    }},\n",
        "    \"TreatmentAndOutcome\": {{\n",
        "        \"Treatment\": {{\n",
        "        \"Type\": \"Surgical resection and plastic repair\",\n",
        "        \"Details\": \"Involving three ribs and reconstruction with polypropylene mesh\"\n",
        "        }},\n",
        "        \"Postoperative Course\": {{\n",
        "        \"Recovery\": \"Uneventful\",\n",
        "        \"DischargeStatus\": \"Good condition\"\n",
        "        }},\n",
        "        \"FollowUp\": {{\n",
        "        \"Duration\": \"Two years\",\n",
        "        \"FunctionalStatus\": \"Patient returned to work one month after surgery\"\n",
        "        }}\n",
        "    }}\n",
        "    }}\n",
        "    Medical case data:\n",
        "    {message}\n",
        "    The only output is Json file\"\"\"\n",
        "        }\n",
        "    messages = [prompt]\n",
        "    try:\n",
        "        response = openai.chat.completions.create(\n",
        "            model=\"gpt-3.5-turbo\",\n",
        "            messages=messages,\n",
        "        )\n",
        "        response_content = response.choices[0].message.content.strip()\n",
        "\n",
        "        try:\n",
        "            parsed_json = json.loads(response_content)\n",
        "        except json.JSONDecodeError as e:\n",
        "            print(f\"Error parsing JSON: {e}\")\n",
        "            parsed_json = response_content\n",
        "        results.append(parsed_json)\n",
        "    except Exception as e:\n",
        "        print(f\"Error processing item: {e}\")\n",
        "\n",
        "\n",
        "\n"
      ]
    },
    {
      "cell_type": "code",
      "execution_count": null,
      "id": "P2b0y5_VbtKg",
      "metadata": {
        "id": "P2b0y5_VbtKg"
      },
      "outputs": [],
      "source": [
        "# Save the results\n",
        "def save_results_to_csv(data, results, csv_filename):\n",
        "    with open(csv_filename, 'w', newline='', encoding='utf-8') as csvfile:\n",
        "        fieldnames = ['input', 'output']\n",
        "        writer = csv.DictWriter(csvfile, fieldnames=fieldnames)\n",
        "        writer.writeheader()\n",
        "        for data_item, result in zip(data, results):\n",
        "            writer.writerow({'input': data_item, 'output': result})\n",
        "\n",
        "\n",
        "csv_filename = \"output_29000.csv\"\n",
        "save_results_to_csv(used_date, results, csv_filename)"
      ]
    },
    {
      "cell_type": "code",
      "execution_count": null,
      "id": "fYCpRQEPTOwE",
      "metadata": {
        "colab": {
          "base_uri": "https://localhost:8080/",
          "height": 197
        },
        "id": "fYCpRQEPTOwE",
        "outputId": "231e8166-004e-4c05-f63f-f77b8810e3a0"
      },
      "outputs": [
        {
          "data": {
            "application/vnd.google.colaboratory.intrinsic+json": {
              "type": "string"
            },
            "text/plain": [
              "'This is the case of a 56-year-old man that was complaining of a dump pain on the right back and a swelling right in this place for several weeks. The patient was in good state and very active. There was not any health problem in the past except a thoracic trauma at work one year ago. In that time the patient was diagnosed with a simple fracture of the 9th right rib without any other consequences.\\\\nOn the X-ray was seen a shadow in the lower part of the right hemithorax. After that, it was decided to perform a CT-scan of the thorax that revealed a tumor of the thoracic wall in the right hemithorax that measured 8 × 4 cm and had a heterogeneous density inside of it. The tumor had involved and destructed the 9th rib and was lying even in two adjacent intercostal spaces, but without involving the lung and muscular layers. On lung window of the CT-scan were seen micronodular infiltrations of both lungs with diameters up to 5 mm and only one nodule in lower lobe of the right lung with diameter almost 1 cm (). The mediastinum was without enlarged lymph nodes and no other lesion was seen in adjacent organs. The conclusion of the radiologist was that probably this was the case of a malignant tumor of the thoracic wall with secondary lesions in both lungs and a biopsy of the tumor was recommended.\\\\nBecause there was not a correlation between the clinical picture of the patient and the conclusion of the radiology it was decided to perform frozen biopsy of the lesions of the right lung and an excision biopsy of the tumor of the thoracic wall. So, through a small posterior thoracotomy at 7th intercostal space were sampled five nodular lesions from the right lung and a sample from the tumor. None of these samples resulted positive (no malignant cells found) after frozen biopsy. In such conditions was considered as more realistic the option of performing an oncologic resection of the tumor of the thoracic wall. (We resected three ribs where the 8th and 10th ribs were macroscopically free of the tumor. The resection was extended 10 cm anteriorly from the tumor and posteriorly it was accompanied by disarticulation of the ribs and partial resection of transversal processes of 8th, 9th, and 10th vertebras.) After that, we have performed a plastic procedure with polypropylene mesh in double layers to correct the defect. The clinical course of the patient was very good and five days later he was discharged from the hospital in very good condition. The conclusion of biopsy for both the tumor of thoracic wall and the lung nodules was sclerosing xanthofibroma which is considered by most people to be a tumor with different clinical and radiological features. Lesions were characterized by a network of anastomosing bone trabeculae without osteoblast lining within a fibrous stroma ().\\\\nReferring to the follow-up, the patient was in a great state of health and from the first month after the surgery he turned back at his work place. Two years after the surgery the thoracic CT-scan showed neither recurrences of the lesions of the thoracic wall nor new developments on the lungs.'"
            ]
          },
          "execution_count": 15,
          "metadata": {},
          "output_type": "execute_result"
        }
      ],
      "source": [
        "data_list[1]"
      ]
    },
    {
      "cell_type": "code",
      "execution_count": null,
      "id": "5ebk82oxi0Ra",
      "metadata": {
        "colab": {
          "base_uri": "https://localhost:8080/"
        },
        "id": "5ebk82oxi0Ra",
        "outputId": "61826481-97bb-4421-ece1-cb0141be52eb"
      },
      "outputs": [
        {
          "data": {
            "text/plain": [
              "{'PatientInformation': {'ChiefComplaints': ['Complaints of pain and restricted range of motion in the left hip joint for two months',\n",
              "   'Severe gait disturbance caused by hip pain aggravated by flexion or rotation'],\n",
              "  'MedicalHistory': {'SpecificComorbidities': 'None',\n",
              "   'Symptoms': 'Femoral head AVN',\n",
              "   'PreviousSurgery': 'Total hip arthroplasty (THA)'},\n",
              "  'DiagnosticFindings': [{'Test': 'Anteroposterior view of the left hip',\n",
              "    'Finding': 'Sclerosis, collapse of the femoral head, and hip dysplasia'},\n",
              "   {'Test': 'MRI',\n",
              "    'Finding': 'Increased joint fluid, bone marrow edema in the left hip, and femoral head necrosis on the contralateral side'}]},\n",
              " 'Diagnosis': {'Disease': {'Name': 'Idiopathic osteonecrosis of the femoral head',\n",
              "   'Type': 'Musculoskeletal disorder',\n",
              "   'Location': 'Hip joint'}},\n",
              " 'TreatmentAndOutcome': {'Treatment': {'Type': 'Total hip arthroplasty (THA)',\n",
              "   'Details': 'Surgery on left hip joint to replace the femoral head and acetabulum'},\n",
              "  'Postoperative Course': {'Recovery': 'Discharged in good condition after three weeks',\n",
              "   'DischargeStatus': 'Good condition'},\n",
              "  'FollowUp': {'Duration': 'Regular outpatient visits',\n",
              "   'FunctionalStatus': 'Symptoms persisted in contralateral hip one year after initial surgery'}}}"
            ]
          },
          "execution_count": 52,
          "metadata": {},
          "output_type": "execute_result"
        }
      ],
      "source": [
        "results[5]"
      ]
    }
  ],
  "metadata": {
    "colab": {
      "provenance": [],
      "gpuType": "T4"
    },
    "kernelspec": {
      "display_name": "Python 3",
      "name": "python3"
    },
    "language_info": {
      "codemirror_mode": {
        "name": "ipython",
        "version": 3
      },
      "file_extension": ".py",
      "mimetype": "text/x-python",
      "name": "python",
      "nbconvert_exporter": "python",
      "pygments_lexer": "ipython3",
      "version": "3.10.9"
    },
    "accelerator": "GPU"
  },
  "nbformat": 4,
  "nbformat_minor": 5
}